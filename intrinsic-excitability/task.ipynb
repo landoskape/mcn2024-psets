{
 "cells": [
  {
   "cell_type": "code",
   "execution_count": 9,
   "metadata": {},
   "outputs": [],
   "source": [
    "%reload_ext autoreload\n",
    "%autoreload 2\n",
    "    \n",
    "from tqdm import tqdm\n",
    "\n",
    "from pathlib import Path\n",
    "import torch\n",
    "import torch.nn as nn\n",
    "from matplotlib import pyplot as plt\n",
    "import numpy as np\n",
    "\n",
    "import tasks\n",
    "import models\n",
    "\n",
    "from rastermap import Rastermap\n",
    "\n",
    "device = \"cuda\" if torch.cuda.is_available() else \"cpu\"\n",
    "\n",
    "filepath = Path(\"~/Documents/Kempner/MCN2024/jobs/\")\n",
    "filepath = filepath.expanduser()\n",
    "\n",
    "from analysis import load_perturbation, load_job, load_results, test_and_perturb, create_cdf_proportional_bins"
   ]
  },
  {
   "cell_type": "code",
   "execution_count": 2,
   "metadata": {},
   "outputs": [
    {
     "name": "stdout",
     "output_type": "stream",
     "text": [
      "Epoch [360/3600], Loss: 0.0482\n",
      "Epoch [720/3600], Loss: 0.0106\n",
      "Epoch [1080/3600], Loss: 0.0064\n"
     ]
    },
    {
     "ename": "KeyboardInterrupt",
     "evalue": "",
     "output_type": "error",
     "traceback": [
      "\u001b[0;31m---------------------------------------------------------------------------\u001b[0m",
      "\u001b[0;31mKeyboardInterrupt\u001b[0m                         Traceback (most recent call last)",
      "Cell \u001b[0;32mIn[2], line 41\u001b[0m\n\u001b[1;32m     39\u001b[0m loss \u001b[38;5;241m=\u001b[39m loss_function(outputs, target)\n\u001b[1;32m     40\u001b[0m loss\u001b[38;5;241m.\u001b[39mbackward()\n\u001b[0;32m---> 41\u001b[0m \u001b[43moptimizer\u001b[49m\u001b[38;5;241;43m.\u001b[39;49m\u001b[43mstep\u001b[49m\u001b[43m(\u001b[49m\u001b[43m)\u001b[49m\n\u001b[1;32m     43\u001b[0m \u001b[38;5;28;01mif\u001b[39;00m (epoch \u001b[38;5;241m+\u001b[39m \u001b[38;5;241m1\u001b[39m) \u001b[38;5;241m%\u001b[39m (num_epochs \u001b[38;5;241m/\u001b[39m\u001b[38;5;241m/\u001b[39m \u001b[38;5;241m10\u001b[39m) \u001b[38;5;241m==\u001b[39m \u001b[38;5;241m0\u001b[39m:\n\u001b[1;32m     44\u001b[0m     \u001b[38;5;28mprint\u001b[39m(\u001b[38;5;124mf\u001b[39m\u001b[38;5;124m'\u001b[39m\u001b[38;5;124mEpoch [\u001b[39m\u001b[38;5;132;01m{\u001b[39;00mepoch\u001b[38;5;241m+\u001b[39m\u001b[38;5;241m1\u001b[39m\u001b[38;5;132;01m}\u001b[39;00m\u001b[38;5;124m/\u001b[39m\u001b[38;5;132;01m{\u001b[39;00mnum_epochs\u001b[38;5;132;01m}\u001b[39;00m\u001b[38;5;124m], Loss: \u001b[39m\u001b[38;5;132;01m{\u001b[39;00mloss\u001b[38;5;241m.\u001b[39mitem()\u001b[38;5;132;01m:\u001b[39;00m\u001b[38;5;124m.4f\u001b[39m\u001b[38;5;132;01m}\u001b[39;00m\u001b[38;5;124m'\u001b[39m)\n",
      "File \u001b[0;32m/usr/local/Caskroom/miniforge/base/envs/pointersequencer/lib/python3.11/site-packages/torch/optim/optimizer.py:385\u001b[0m, in \u001b[0;36mOptimizer.profile_hook_step.<locals>.wrapper\u001b[0;34m(*args, **kwargs)\u001b[0m\n\u001b[1;32m    380\u001b[0m         \u001b[38;5;28;01melse\u001b[39;00m:\n\u001b[1;32m    381\u001b[0m             \u001b[38;5;28;01mraise\u001b[39;00m \u001b[38;5;167;01mRuntimeError\u001b[39;00m(\n\u001b[1;32m    382\u001b[0m                 \u001b[38;5;124mf\u001b[39m\u001b[38;5;124m\"\u001b[39m\u001b[38;5;132;01m{\u001b[39;00mfunc\u001b[38;5;132;01m}\u001b[39;00m\u001b[38;5;124m must return None or a tuple of (new_args, new_kwargs), but got \u001b[39m\u001b[38;5;132;01m{\u001b[39;00mresult\u001b[38;5;132;01m}\u001b[39;00m\u001b[38;5;124m.\u001b[39m\u001b[38;5;124m\"\u001b[39m\n\u001b[1;32m    383\u001b[0m             )\n\u001b[0;32m--> 385\u001b[0m out \u001b[38;5;241m=\u001b[39m \u001b[43mfunc\u001b[49m\u001b[43m(\u001b[49m\u001b[38;5;241;43m*\u001b[39;49m\u001b[43margs\u001b[49m\u001b[43m,\u001b[49m\u001b[43m \u001b[49m\u001b[38;5;241;43m*\u001b[39;49m\u001b[38;5;241;43m*\u001b[39;49m\u001b[43mkwargs\u001b[49m\u001b[43m)\u001b[49m\n\u001b[1;32m    386\u001b[0m \u001b[38;5;28mself\u001b[39m\u001b[38;5;241m.\u001b[39m_optimizer_step_code()\n\u001b[1;32m    388\u001b[0m \u001b[38;5;66;03m# call optimizer step post hooks\u001b[39;00m\n",
      "File \u001b[0;32m/usr/local/Caskroom/miniforge/base/envs/pointersequencer/lib/python3.11/site-packages/torch/optim/optimizer.py:76\u001b[0m, in \u001b[0;36m_use_grad_for_differentiable.<locals>._use_grad\u001b[0;34m(self, *args, **kwargs)\u001b[0m\n\u001b[1;32m     74\u001b[0m     torch\u001b[38;5;241m.\u001b[39mset_grad_enabled(\u001b[38;5;28mself\u001b[39m\u001b[38;5;241m.\u001b[39mdefaults[\u001b[38;5;124m'\u001b[39m\u001b[38;5;124mdifferentiable\u001b[39m\u001b[38;5;124m'\u001b[39m])\n\u001b[1;32m     75\u001b[0m     torch\u001b[38;5;241m.\u001b[39m_dynamo\u001b[38;5;241m.\u001b[39mgraph_break()\n\u001b[0;32m---> 76\u001b[0m     ret \u001b[38;5;241m=\u001b[39m \u001b[43mfunc\u001b[49m\u001b[43m(\u001b[49m\u001b[38;5;28;43mself\u001b[39;49m\u001b[43m,\u001b[49m\u001b[43m \u001b[49m\u001b[38;5;241;43m*\u001b[39;49m\u001b[43margs\u001b[49m\u001b[43m,\u001b[49m\u001b[43m \u001b[49m\u001b[38;5;241;43m*\u001b[39;49m\u001b[38;5;241;43m*\u001b[39;49m\u001b[43mkwargs\u001b[49m\u001b[43m)\u001b[49m\n\u001b[1;32m     77\u001b[0m \u001b[38;5;28;01mfinally\u001b[39;00m:\n\u001b[1;32m     78\u001b[0m     torch\u001b[38;5;241m.\u001b[39m_dynamo\u001b[38;5;241m.\u001b[39mgraph_break()\n",
      "File \u001b[0;32m/usr/local/Caskroom/miniforge/base/envs/pointersequencer/lib/python3.11/site-packages/torch/optim/adam.py:141\u001b[0m, in \u001b[0;36mAdam.step\u001b[0;34m(self, closure)\u001b[0m\n\u001b[1;32m    133\u001b[0m \u001b[38;5;129m@_use_grad_for_differentiable\u001b[39m\n\u001b[1;32m    134\u001b[0m \u001b[38;5;28;01mdef\u001b[39;00m \u001b[38;5;21mstep\u001b[39m(\u001b[38;5;28mself\u001b[39m, closure\u001b[38;5;241m=\u001b[39m\u001b[38;5;28;01mNone\u001b[39;00m):\n\u001b[1;32m    135\u001b[0m \u001b[38;5;250m    \u001b[39m\u001b[38;5;124;03m\"\"\"Perform a single optimization step.\u001b[39;00m\n\u001b[1;32m    136\u001b[0m \n\u001b[1;32m    137\u001b[0m \u001b[38;5;124;03m    Args:\u001b[39;00m\n\u001b[1;32m    138\u001b[0m \u001b[38;5;124;03m        closure (Callable, optional): A closure that reevaluates the model\u001b[39;00m\n\u001b[1;32m    139\u001b[0m \u001b[38;5;124;03m            and returns the loss.\u001b[39;00m\n\u001b[1;32m    140\u001b[0m \u001b[38;5;124;03m    \"\"\"\u001b[39;00m\n\u001b[0;32m--> 141\u001b[0m     \u001b[38;5;28;43mself\u001b[39;49m\u001b[38;5;241;43m.\u001b[39;49m\u001b[43m_cuda_graph_capture_health_check\u001b[49m\u001b[43m(\u001b[49m\u001b[43m)\u001b[49m\n\u001b[1;32m    143\u001b[0m     loss \u001b[38;5;241m=\u001b[39m \u001b[38;5;28;01mNone\u001b[39;00m\n\u001b[1;32m    144\u001b[0m     \u001b[38;5;28;01mif\u001b[39;00m closure \u001b[38;5;129;01mis\u001b[39;00m \u001b[38;5;129;01mnot\u001b[39;00m \u001b[38;5;28;01mNone\u001b[39;00m:\n",
      "File \u001b[0;32m/usr/local/Caskroom/miniforge/base/envs/pointersequencer/lib/python3.11/site-packages/torch/optim/optimizer.py:332\u001b[0m, in \u001b[0;36mOptimizer._cuda_graph_capture_health_check\u001b[0;34m(self)\u001b[0m\n\u001b[1;32m    321\u001b[0m \u001b[38;5;28;01mdef\u001b[39;00m \u001b[38;5;21m_cuda_graph_capture_health_check\u001b[39m(\u001b[38;5;28mself\u001b[39m) \u001b[38;5;241m-\u001b[39m\u001b[38;5;241m>\u001b[39m \u001b[38;5;28;01mNone\u001b[39;00m:\n\u001b[1;32m    322\u001b[0m     \u001b[38;5;66;03m# Note [torch.compile x capturable]\u001b[39;00m\n\u001b[1;32m    323\u001b[0m     \u001b[38;5;66;03m# If we are compiling, we try to take the capturable path automatically by\u001b[39;00m\n\u001b[0;32m   (...)\u001b[0m\n\u001b[1;32m    330\u001b[0m     \u001b[38;5;66;03m# Thus, when compiling, inductor will determine if cudagraphs\u001b[39;00m\n\u001b[1;32m    331\u001b[0m     \u001b[38;5;66;03m# can be enabled based on whether there is input mutation or CPU tensors.\u001b[39;00m\n\u001b[0;32m--> 332\u001b[0m     \u001b[38;5;28;01mif\u001b[39;00m \u001b[38;5;129;01mnot\u001b[39;00m is_compiling() \u001b[38;5;129;01mand\u001b[39;00m \u001b[43mtorch\u001b[49m\u001b[38;5;241;43m.\u001b[39;49m\u001b[43mbackends\u001b[49m\u001b[38;5;241;43m.\u001b[39;49m\u001b[43mcuda\u001b[49m\u001b[38;5;241;43m.\u001b[39;49m\u001b[43mis_built\u001b[49m\u001b[43m(\u001b[49m\u001b[43m)\u001b[49m \u001b[38;5;129;01mand\u001b[39;00m torch\u001b[38;5;241m.\u001b[39mcuda\u001b[38;5;241m.\u001b[39mis_available():\n\u001b[1;32m    333\u001b[0m         capturing \u001b[38;5;241m=\u001b[39m torch\u001b[38;5;241m.\u001b[39mcuda\u001b[38;5;241m.\u001b[39mis_current_stream_capturing()\n\u001b[1;32m    335\u001b[0m         \u001b[38;5;28;01mif\u001b[39;00m capturing \u001b[38;5;129;01mand\u001b[39;00m \u001b[38;5;129;01mnot\u001b[39;00m \u001b[38;5;28mall\u001b[39m(group[\u001b[38;5;124m'\u001b[39m\u001b[38;5;124mcapturable\u001b[39m\u001b[38;5;124m'\u001b[39m] \u001b[38;5;28;01mfor\u001b[39;00m group \u001b[38;5;129;01min\u001b[39;00m \u001b[38;5;28mself\u001b[39m\u001b[38;5;241m.\u001b[39mparam_groups):\n",
      "File \u001b[0;32m/usr/local/Caskroom/miniforge/base/envs/pointersequencer/lib/python3.11/site-packages/torch/backends/cuda/__init__.py:30\u001b[0m, in \u001b[0;36mis_built\u001b[0;34m()\u001b[0m\n\u001b[1;32m      5\u001b[0m \u001b[38;5;28;01mimport\u001b[39;00m \u001b[38;5;21;01mtorch\u001b[39;00m\n\u001b[1;32m      7\u001b[0m __all__ \u001b[38;5;241m=\u001b[39m [\n\u001b[1;32m      8\u001b[0m     \u001b[38;5;124m\"\u001b[39m\u001b[38;5;124mis_built\u001b[39m\u001b[38;5;124m\"\u001b[39m,\n\u001b[1;32m      9\u001b[0m     \u001b[38;5;124m\"\u001b[39m\u001b[38;5;124mcuFFTPlanCacheAttrContextProp\u001b[39m\u001b[38;5;124m\"\u001b[39m,\n\u001b[0;32m   (...)\u001b[0m\n\u001b[1;32m     26\u001b[0m     \u001b[38;5;124m\"\u001b[39m\u001b[38;5;124msdp_kernel\u001b[39m\u001b[38;5;124m\"\u001b[39m,\n\u001b[1;32m     27\u001b[0m ]\n\u001b[0;32m---> 30\u001b[0m \u001b[38;5;28;01mdef\u001b[39;00m \u001b[38;5;21mis_built\u001b[39m():\n\u001b[1;32m     31\u001b[0m \u001b[38;5;250m    \u001b[39m\u001b[38;5;124mr\u001b[39m\u001b[38;5;124;03m\"\"\"\u001b[39;00m\n\u001b[1;32m     32\u001b[0m \u001b[38;5;124;03m    Return whether PyTorch is built with CUDA support.\u001b[39;00m\n\u001b[1;32m     33\u001b[0m \n\u001b[1;32m     34\u001b[0m \u001b[38;5;124;03m    Note that this doesn't necessarily mean CUDA is available; just that if this PyTorch\u001b[39;00m\n\u001b[1;32m     35\u001b[0m \u001b[38;5;124;03m    binary were run on a machine with working CUDA drivers and devices, we would be able to use it.\u001b[39;00m\n\u001b[1;32m     36\u001b[0m \u001b[38;5;124;03m    \"\"\"\u001b[39;00m\n\u001b[1;32m     37\u001b[0m     \u001b[38;5;28;01mreturn\u001b[39;00m torch\u001b[38;5;241m.\u001b[39m_C\u001b[38;5;241m.\u001b[39m_has_cuda\n",
      "\u001b[0;31mKeyboardInterrupt\u001b[0m: "
     ]
    }
   ],
   "source": [
    "# Hyperparameters\n",
    "B = 300 # Batch size\n",
    "D = 2 # Input dimensions\n",
    "N = 50 # Number of recurrent neurons\n",
    "learning_rate = 1e-2\n",
    "num_epochs = 3600\n",
    "\n",
    "start_sigma = 0.1\n",
    "end_sigma = 0.5\n",
    "sigma = torch.cat((\n",
    "    start_sigma*torch.ones(num_epochs//3), \n",
    "    torch.linspace(start_sigma, end_sigma, num_epochs//3),\n",
    "    end_sigma*torch.ones(num_epochs//3)\n",
    "))\n",
    "\n",
    "start_delay = 1\n",
    "end_delay = 10\n",
    "delay_time = torch.cat((\n",
    "    start_delay * torch.ones(num_epochs//3, dtype=torch.int),\n",
    "    torch.linspace(start_delay, end_delay, num_epochs//3, dtype=torch.int),\n",
    "    end_delay*torch.ones(num_epochs//3, dtype=torch.int)\n",
    "))\n",
    "task = tasks.ContextualGoNogo(D, sigma, delay_time=10, num_contexts=2, task_type=\"privileged\")\n",
    "\n",
    "# Create network\n",
    "net = models.GainRNN(task.input_dimensionality(), N, task.output_dimensionality(), input_rank=3, recurrent_rank=2)\n",
    "\n",
    "loss_function = nn.MSELoss()\n",
    "optimizer = torch.optim.Adam(net.parameters(), lr=learning_rate)\n",
    "\n",
    "save_accuracy = torch.zeros(num_epochs)\n",
    "\n",
    "# Training loop\n",
    "for epoch in range(num_epochs):\n",
    "    X, target, params = task.generate_data(B, sigma=sigma[epoch], delay_time=delay_time[epoch], source_strength=1.0, source_floor=0.5)\n",
    "\n",
    "    optimizer.zero_grad()\n",
    "    outputs, hidden = net(X, return_hidden=True)\n",
    "    loss = loss_function(outputs, target)\n",
    "    loss.backward()\n",
    "    optimizer.step()\n",
    "    \n",
    "    if (epoch + 1) % (num_epochs // 10) == 0:\n",
    "        print(f'Epoch [{epoch+1}/{num_epochs}], Loss: {loss.item():.4f}')"
   ]
  },
  {
   "cell_type": "code",
   "execution_count": 19,
   "metadata": {},
   "outputs": [
    {
     "data": {
      "text/plain": [
       "<All keys matched successfully>"
      ]
     },
     "execution_count": 19,
     "metadata": {},
     "output_type": "execute_result"
    }
   ],
   "source": [
    "# Load trained model and results\n",
    "\n",
    "jobid = 33\n",
    "model_index = 9\n",
    "model, results, init_model = load_job(jobid, model_index=model_index, init=True)\n",
    "\n",
    "args = results[\"args\"]\n",
    "task_params = results[\"task\"]\n",
    "train_loss = results[\"train_loss\"]\n",
    "train_accuracy = results[\"train_accuracy\"]\n",
    "train_evidence = results[\"train_evidence\"]\n",
    "train_fixation = results[\"train_fixation\"]\n",
    "\n",
    "task = tasks.ContextualGoNogo(\n",
    "    args[\"input_dimensions\"],\n",
    "    args[\"end_sigma\"],\n",
    "    num_contexts=task_params[\"num_contexts\"],\n",
    "    stim_time=task_params[\"stim_time\"],\n",
    "    delay_time=args[\"end_delay\"],\n",
    "    decision_time=task_params[\"decision_time\"],\n",
    "    task_type=args[\"task_type\"] if \"task_type\" in args else \"embedded\",\n",
    ")\n",
    "task.cursors = task_params[\"cursors\"]\n",
    "\n",
    "if args[\"network_type\"] == \"Gain\":\n",
    "    model_constructor = models.GainRNN\n",
    "elif args[\"network_type\"] == \"Tau\":\n",
    "    model_constructor = models.TauRNN\n",
    "elif args[\"network_type\"] == \"Full\":\n",
    "    model_constructor = models.FullRNN\n",
    "else:\n",
    "    raise ValueError(\"Unknown network type\")\n",
    "\n",
    "if args[\"network_type\"] != \"Full\":\n",
    "    kwargs = dict(input_rank=args[\"input_rank\"], recurrent_rank=args[\"recurrent_rank\"])\n",
    "else:\n",
    "    kwargs = {}\n",
    "\n",
    "net = model_constructor(\n",
    "    task.input_dimensionality(),\n",
    "    args[\"num_neurons\"],\n",
    "    task.output_dimensionality(),\n",
    "    **kwargs,\n",
    ")\n",
    "\n",
    "net.load_state_dict(model)"
   ]
  },
  {
   "cell_type": "code",
   "execution_count": 20,
   "metadata": {},
   "outputs": [
    {
     "name": "stdout",
     "output_type": "stream",
     "text": [
      "2024-08-16 13:39:33,245 [INFO] normalizing data across axis=1\n",
      "2024-08-16 13:39:33,728 [INFO] projecting out mean along axis=0\n",
      "2024-08-16 13:39:33,993 [INFO] data normalized, 0.75sec\n",
      "2024-08-16 13:39:33,994 [INFO] sorting activity: 512 valid samples by 80000 timepoints\n",
      "2024-08-16 13:39:35,283 [INFO] n_PCs = 100 computed, 2.04sec\n",
      "2024-08-16 13:39:35,351 [INFO] 20 clusters computed, time 2.11sec\n",
      "2024-08-16 13:39:35,509 [INFO] clusters sorted, time 2.26sec\n",
      "2024-08-16 13:39:35,537 [INFO] clusters upsampled, time 2.29sec\n"
     ]
    },
    {
     "name": "stderr",
     "output_type": "stream",
     "text": [
      "/usr/local/Caskroom/miniforge/base/envs/pointersequencer/lib/python3.11/site-packages/rastermap/cluster.py:138: UserWarning: found fewer than half the n_clusters that the user specified, rerunning with random initialization\n",
      "  warnings.warn(\n"
     ]
    },
    {
     "name": "stdout",
     "output_type": "stream",
     "text": [
      "2024-08-16 13:39:35,655 [INFO] rastermap complete, time 2.41sec\n"
     ]
    }
   ],
   "source": [
    "X, target, params = task.generate_data(1000, sigma=0.1, source_floor=1.0)\n",
    "output, hidden = net(X, return_hidden=True)\n",
    "output = output.detach()\n",
    "\n",
    "all_hidden = np.array(hidden.view(-1, hidden.size(2)).detach()).T\n",
    "\n",
    "rm = Rastermap(n_PCs=100, n_clusters=20, locality=0.75, time_lag_window=1).fit(all_hidden, compute_X_embedding=False)\n",
    "isort = rm.isort"
   ]
  },
  {
   "cell_type": "code",
   "execution_count": 25,
   "metadata": {},
   "outputs": [
    {
     "ename": "TypeError",
     "evalue": "ContextualGoNogo.generate_data() got an unexpected keyword argument 'decision_time'",
     "output_type": "error",
     "traceback": [
      "\u001b[0;31m---------------------------------------------------------------------------\u001b[0m",
      "\u001b[0;31mTypeError\u001b[0m                                 Traceback (most recent call last)",
      "Cell \u001b[0;32mIn[25], line 3\u001b[0m\n\u001b[1;32m      1\u001b[0m ibatch \u001b[38;5;241m=\u001b[39m \u001b[38;5;241m0\u001b[39m\n\u001b[0;32m----> 3\u001b[0m X, target, params \u001b[38;5;241m=\u001b[39m \u001b[43mtask\u001b[49m\u001b[38;5;241;43m.\u001b[39;49m\u001b[43mgenerate_data\u001b[49m\u001b[43m(\u001b[49m\u001b[38;5;241;43m1\u001b[39;49m\u001b[43m,\u001b[49m\u001b[43m \u001b[49m\u001b[43msource_floor\u001b[49m\u001b[38;5;241;43m=\u001b[39;49m\u001b[38;5;241;43m0.0\u001b[39;49m\u001b[43m,\u001b[49m\u001b[43m \u001b[49m\u001b[43msource_strength\u001b[49m\u001b[38;5;241;43m=\u001b[39;49m\u001b[38;5;241;43m0.5\u001b[39;49m\u001b[43m,\u001b[49m\u001b[43m \u001b[49m\u001b[43mdecision_time\u001b[49m\u001b[38;5;241;43m=\u001b[39;49m\u001b[38;5;241;43m100\u001b[39;49m\u001b[43m)\u001b[49m\n\u001b[1;32m      4\u001b[0m output, hidden \u001b[38;5;241m=\u001b[39m net(X, return_hidden\u001b[38;5;241m=\u001b[39m\u001b[38;5;28;01mTrue\u001b[39;00m)\n\u001b[1;32m      5\u001b[0m output \u001b[38;5;241m=\u001b[39m output\u001b[38;5;241m.\u001b[39mdetach()\n",
      "\u001b[0;31mTypeError\u001b[0m: ContextualGoNogo.generate_data() got an unexpected keyword argument 'decision_time'"
     ]
    }
   ],
   "source": [
    "ibatch = 0\n",
    "\n",
    "task.decision_time = 200\n",
    "X, target, params = task.generate_data(1, source_floor=0.0, source_strength=0.5)\n",
    "output, hidden = net(X, return_hidden=True)\n",
    "output = output.detach()\n",
    "\n",
    "fig, ax = plt.subplots(4, 1, figsize=(12, 7), layout=\"constrained\", sharex=True)\n",
    "ax[0].imshow(X[ibatch].T, aspect=\"auto\", cmap=\"bwr\", interpolation=\"none\", vmin=-1, vmax=1)\n",
    "ax[0].set_title(\"Input\")\n",
    "# ax[1].plot(hidden[ibatch].detach().numpy()[:, isort], c='k', alpha=0.3)\n",
    "ax[1].imshow(hidden[ibatch].detach().numpy().T[isort], aspect=\"auto\", interpolation=\"none\", cmap='gray')\n",
    "ax[1].set_title(\"Hidden Activity\")\n",
    "ax[2].plot(output[ibatch].detach().numpy(), label=\"Output\")\n",
    "ax[2].set_title(\"Output\")\n",
    "ax[3].plot(target[ibatch].detach().numpy(), label=\"Target\")\n",
    "ax[3].set_title(\"Targets\")\n",
    "plt.show()"
   ]
  },
  {
   "cell_type": "code",
   "execution_count": 38,
   "metadata": {},
   "outputs": [
    {
     "data": {
      "image/png": "[encoded data removed]",
      "text/plain": [
       "<Figure size 1200x600 with 4 Axes>"
      ]
     },
     "metadata": {},
     "output_type": "display_data"
    }
   ],
   "source": [
    "ibatch = 1\n",
    "\n",
    "fig, ax = plt.subplots(4, 1, figsize=(12, 6), layout=\"constrained\", sharex=True)\n",
    "ax[0].imshow(X[ibatch].T, aspect=\"auto\")\n",
    "ax[0].set_title(\"Input\")\n",
    "ax[1].imshow(hidden[ibatch].detach().numpy().T, aspect=\"auto\", interpolation=\"none\")\n",
    "ax[2].plot(outputs[ibatch].detach().numpy(), label=\"Output\")\n",
    "ax[3].plot(target[ibatch].detach().numpy(), label=\"Target\")\n",
    "plt.show()"
   ]
  },
  {
   "cell_type": "code",
   "execution_count": 6,
   "metadata": {},
   "outputs": [
    {
     "data": {
      "text/plain": [
       "tensor([-0.0974,  0.0866, -0.0177,  0.0962, -0.0976, -0.0620, -0.0904,  0.0902,\n",
       "         0.0977, -0.0929])"
      ]
     },
     "execution_count": 6,
     "metadata": {},
     "output_type": "execute_result"
    }
   ],
   "source": [
    "params[\"s_empirical\"][:10]"
   ]
  },
  {
   "cell_type": "code",
   "execution_count": null,
   "metadata": {},
   "outputs": [],
   "source": []
  },
  {
   "cell_type": "code",
   "execution_count": 54,
   "metadata": {},
   "outputs": [
    {
     "name": "stdout",
     "output_type": "stream",
     "text": [
      "Beta: Parameter containing:\n",
      "tensor(0.8745, requires_grad=True) Alpha: Parameter containing:\n",
      "tensor([0.6411, 0.8757], requires_grad=True)\n",
      "torch.Size([11, 2]) torch.Size([2, 2])\n"
     ]
    },
    {
     "data": {
      "image/png": "[encoded data removed]",
      "text/plain": [
       "<Figure size 500x400 with 3 Axes>"
      ]
     },
     "metadata": {},
     "output_type": "display_data"
    }
   ],
   "source": [
    "ipweight = net.input_weight.weight.detach().T\n",
    "rcweight = net.recurrent_weight.weight.detach()\n",
    "roweight = net.readout.weight.detach()\n",
    "sd_score = roweight[0] - roweight[1]\n",
    "isort = torch.argsort(sd_score)\n",
    "\n",
    "print(\"Beta:\", net.rnn.beta, \"Alpha:\", net.rnn.alpha)\n",
    "print(ipweight.shape, rcweight.shape)\n",
    "\n",
    "fig, ax = plt.subplots(1, 3, figsize=(5, 4), layout=\"constrained\")\n",
    "ax[0].imshow(ipweight.T[isort], vmin=-1, vmax=1)\n",
    "ax[1].imshow(rcweight.T[isort][:, isort], vmin=-1, vmax=1)\n",
    "ax[2].imshow(roweight.T[isort], vmin=-1, vmax=1)\n",
    "plt.show()"
   ]
  },
  {
   "cell_type": "code",
   "execution_count": 44,
   "metadata": {},
   "outputs": [
    {
     "data": {
      "text/plain": [
       "tensor([[-3.0019e-03,  8.0061e-03, -4.9607e-04, -7.6670e-03, -1.8169e-02,\n",
       "          1.4057e-02, -5.0839e-03, -1.8974e-02,  3.1144e-03, -1.9640e-03,\n",
       "          3.6878e-01],\n",
       "        [ 9.8980e-04, -1.1440e-02, -8.7633e-04, -2.0143e-05, -2.5359e-03,\n",
       "         -3.1783e-06, -3.8885e-02,  9.0732e-03, -1.1556e-05, -1.2034e-02,\n",
       "          2.1957e-02]])"
      ]
     },
     "execution_count": 44,
     "metadata": {},
     "output_type": "execute_result"
    }
   ],
   "source": [
    "ipweight.T"
   ]
  },
  {
   "cell_type": "code",
   "execution_count": 7,
   "metadata": {},
   "outputs": [
    {
     "ename": "TypeError",
     "evalue": "ContextualGoNogo.generate_data() missing 1 required positional argument: 'T'",
     "output_type": "error",
     "traceback": [
      "\u001b[0;31m---------------------------------------------------------------------------\u001b[0m",
      "\u001b[0;31mTypeError\u001b[0m                                 Traceback (most recent call last)",
      "Cell \u001b[0;32mIn[7], line 1\u001b[0m\n\u001b[0;32m----> 1\u001b[0m X, labels, params \u001b[38;5;241m=\u001b[39m \u001b[43mtask\u001b[49m\u001b[38;5;241;43m.\u001b[39;49m\u001b[43mgenerate_data\u001b[49m\u001b[43m(\u001b[49m\u001b[43mB\u001b[49m\u001b[43m)\u001b[49m\n\u001b[1;32m      2\u001b[0m outputs, spks, mems \u001b[38;5;241m=\u001b[39m net(X, start_integration\u001b[38;5;241m=\u001b[39mstart_integration)\n\u001b[1;32m      3\u001b[0m choice \u001b[38;5;241m=\u001b[39m torch\u001b[38;5;241m.\u001b[39margmax(outputs, dim\u001b[38;5;241m=\u001b[39m\u001b[38;5;241m1\u001b[39m)\n",
      "\u001b[0;31mTypeError\u001b[0m: ContextualGoNogo.generate_data() missing 1 required positional argument: 'T'"
     ]
    }
   ],
   "source": [
    "X, labels, params = task.generate_data(B)\n",
    "outputs, spks, mems = net(X, start_integration=start_integration)\n",
    "choice = torch.argmax(outputs, dim=1)\n",
    "\n",
    "torch.cat((params[\"stimuli\"][:10], labels[:10].unsqueeze(1), choice[:10].unsqueeze(1)), dim=1)"
   ]
  },
  {
   "cell_type": "code",
   "execution_count": null,
   "metadata": {},
   "outputs": [],
   "source": [
    "ibatch = 8\n",
    "\n",
    "print(X[ibatch].shape, spks[ibatch].shape, mems[ibatch].shape)\n",
    "\n",
    "fig, ax = plt.subplots(3, 1, figsize=(9, 6), layout=\"constrained\")\n",
    "ax[0].imshow(X[ibatch].T, aspect=\"auto\")\n",
    "ax[1].imshow(spks[ibatch][:, isort].detach().T, aspect=\"auto\")\n",
    "ax[2].imshow(mems[ibatch][:, isort].detach().T, aspect=\"auto\")\n",
    "plt.show()"
   ]
  }
 ],
 "metadata": {
  "kernelspec": {
   "display_name": "rl-playground",
   "language": "python",
   "name": "python3"
  },
  "language_info": {
   "codemirror_mode": {
    "name": "ipython",
    "version": 3
   },
   "file_extension": ".py",
   "mimetype": "text/x-python",
   "name": "python",
   "nbconvert_exporter": "python",
   "pygments_lexer": "ipython3",
   "version": "3.11.0"
  }
 },
 "nbformat": 4,
 "nbformat_minor": 2
}
