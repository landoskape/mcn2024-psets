{
 "cells": [
  {
   "cell_type": "code",
   "execution_count": 1,
   "metadata": {},
   "outputs": [],
   "source": [
    "%reload_ext autoreload\n",
    "%autoreload 2\n",
    "    \n",
    "import torch\n",
    "import torch.nn as nn\n",
    "import snntorch as snn\n",
    "from snntorch import surrogate\n",
    "from matplotlib import pyplot as plt\n",
    "\n",
    "import tasks\n",
    "import models"
   ]
  },
  {
   "cell_type": "code",
   "execution_count": 20,
   "metadata": {},
   "outputs": [],
   "source": [
    "import torch\n",
    "import snntorch as snn\n",
    "from snntorch import surrogate\n"
   ]
  },
  {
   "cell_type": "code",
   "execution_count": 26,
   "metadata": {},
   "outputs": [
    {
     "name": "stdout",
     "output_type": "stream",
     "text": [
      "Beta: Parameter containing:\n",
      "tensor([0.2238, 0.2241, 0.5727, 0.5423, 0.6783, 0.0937, 0.2271, 0.2359, 0.9953,\n",
      "        0.0404], requires_grad=True)\n",
      "Alpha: Parameter containing:\n",
      "tensor([0.0253, 0.4761, 0.5927, 0.7459, 0.4165, 0.6207, 0.0409, 0.5735, 0.5026,\n",
      "        0.8019], requires_grad=True)\n",
      "Beta: Parameter containing:\n",
      "tensor([-0.8949, -0.8433,  1.6653,  1.5816, -0.1779, -0.9433, -0.8877,  0.2576,\n",
      "         1.9757, -0.8238], requires_grad=True)\n",
      "Alpha: Parameter containing:\n",
      "tensor([-0.9855, -0.6812,  1.6853,  1.7852, -0.4389, -0.6459, -0.9777,  0.5952,\n",
      "         1.5140,  0.1396], requires_grad=True)\n"
     ]
    }
   ],
   "source": [
    "D = 10\n",
    "lif = snn.Synaptic(beta=torch.rand(D), learn_beta=True, alpha=torch.rand(D), learn_alpha=True)\n",
    "\n",
    "print(\"Beta:\", lif.beta)\n",
    "print(\"Alpha:\", lif.alpha)\n",
    "\n",
    "optimizer = torch.optim.Adam(lif.parameters(), lr=0.01)\n",
    "\n",
    "v = torch.randn(D)\n",
    "\n",
    "def increase_output(lif, optimizer):\n",
    "    mem = torch.zeros(D)\n",
    "    syn = torch.zeros(D)\n",
    "    \n",
    "    total_spikes = torch.zeros(D)\n",
    "    for _ in range(100):\n",
    "        spk, syn, mem = lif(v * torch.randn(1), syn=syn, mem=mem)\n",
    "        total_spikes += spk\n",
    "\n",
    "    loss = -total_spikes.sum()\n",
    "    loss.backward()\n",
    "\n",
    "    optimizer.step()\n",
    "    return total_spikes\n",
    "\n",
    "num_epochs = 100\n",
    "all_spikes = torch.zeros((num_epochs, D))\n",
    "for epoch in range(num_epochs):\n",
    "    all_spikes[epoch] = increase_output(lif, optimizer)\n",
    "\n",
    "print(\"Beta:\", lif.beta)\n",
    "print(\"Alpha:\", lif.alpha)"
   ]
  },
  {
   "cell_type": "code",
   "execution_count": 16,
   "metadata": {},
   "outputs": [
    {
     "name": "stdout",
     "output_type": "stream",
     "text": [
      "Epoch [100/1000], Loss: 0.6877, Accuracy: 58.00%\n",
      "Epoch [200/1000], Loss: 0.6686, Accuracy: 70.00%\n",
      "Epoch [300/1000], Loss: 0.6561, Accuracy: 70.00%\n",
      "Epoch [400/1000], Loss: 0.6294, Accuracy: 79.00%\n",
      "Epoch [500/1000], Loss: 0.5420, Accuracy: 87.00%\n",
      "Epoch [600/1000], Loss: 0.5514, Accuracy: 76.00%\n",
      "Epoch [700/1000], Loss: 0.5315, Accuracy: 77.00%\n",
      "Epoch [800/1000], Loss: 0.5056, Accuracy: 85.00%\n",
      "Epoch [900/1000], Loss: 0.5654, Accuracy: 74.00%\n",
      "Epoch [1000/1000], Loss: 0.5206, Accuracy: 79.00%\n",
      "Failures: Choice - Labels - EmpiricalS\n",
      "tensor([[1, 0],\n",
      "        [0, 1],\n",
      "        [1, 0],\n",
      "        [1, 0],\n",
      "        [0, 1],\n",
      "        [1, 0],\n",
      "        [1, 0],\n",
      "        [0, 1],\n",
      "        [0, 1],\n",
      "        [0, 1],\n",
      "        [0, 1],\n",
      "        [1, 0],\n",
      "        [0, 1],\n",
      "        [0, 1],\n",
      "        [0, 1],\n",
      "        [1, 0],\n",
      "        [1, 0],\n",
      "        [0, 1],\n",
      "        [1, 0],\n",
      "        [0, 1],\n",
      "        [1, 0],\n",
      "        [1, 0],\n",
      "        [1, 0],\n",
      "        [0, 1]])\n",
      "Accuracy: 76.00%\n"
     ]
    }
   ],
   "source": [
    "# Hyperparameters\n",
    "B = 100 # Batch size\n",
    "D = 10 # Input dimensions\n",
    "N = 20 # Number of recurrent neurons\n",
    "T = 20 # Time steps per trial\n",
    "sigma = 2.0  # Noise amplitude\n",
    "learning_rate = 1e-3\n",
    "num_epochs = 1000\n",
    "num_contexts = 3\n",
    "\n",
    "task = tasks.ContextualGoNogo(D, sigma, num_contexts)\n",
    "start_integration = task.decision_start_time()\n",
    "\n",
    "# Create network\n",
    "net = models.SpikingRNN(task.input_dimensionality(), N, 2, beta=2.0, synaptic=False)\n",
    "\n",
    "# Loss function and optimizer\n",
    "criterion = nn.CrossEntropyLoss()\n",
    "optimizer = torch.optim.Adam(net.parameters(), lr=learning_rate, weight_decay=1e-2)\n",
    "\n",
    "save_accuracy = torch.zeros(num_epochs)\n",
    "\n",
    "# Training loop\n",
    "for epoch in range(num_epochs):\n",
    "    X, labels, params = task.generate_data(B, T)\n",
    "\n",
    "    optimizer.zero_grad()\n",
    "    outputs, spks, mems = net(X, start_integration=start_integration)\n",
    "    loss = criterion(outputs, labels)  # Use only the last time step for loss\n",
    "    loss.backward()\n",
    "    optimizer.step()\n",
    "\n",
    "    choice = torch.argmax(outputs, dim=1)\n",
    "    accuracy = torch.sum(choice == labels).item() / B * 100\n",
    "    save_accuracy[epoch] = accuracy\n",
    "    \n",
    "    if (epoch + 1) % (num_epochs // 10) == 0:\n",
    "        print(f'Epoch [{epoch+1}/{num_epochs}], Loss: {loss.item():.4f}, Accuracy: {accuracy:.2f}%')\n",
    "\n",
    "X, labels, params = task.generate_data(B, T)\n",
    "outputs, spks, mems = net(X, start_integration=start_integration)\n",
    "choice = torch.argmax(outputs, dim=1)\n",
    "print(f'Failures: Choice - Labels - EmpiricalS')\n",
    "errors = torch.stack((choice, labels), dim=1)[choice != labels]\n",
    "print(errors)\n",
    "print(f'Accuracy: {torch.sum(choice == labels).item() / B * 100:.2f}%')"
   ]
  },
  {
   "cell_type": "code",
   "execution_count": 13,
   "metadata": {},
   "outputs": [
    {
     "data": {
      "text/plain": [
       "Parameter containing:\n",
       "tensor([2.0883, 2.0370, 2.0350, 2.1592, 2.0962, 2.0224, 2.0857, 2.0478, 2.0688,\n",
       "        2.0336, 2.0561, 2.0353, 1.9729, 2.1897, 2.0613, 2.0340, 2.1589, 2.1058,\n",
       "        1.9857, 2.0324], requires_grad=True)"
      ]
     },
     "execution_count": 13,
     "metadata": {},
     "output_type": "execute_result"
    }
   ],
   "source": [
    "net.rnn.beta"
   ]
  },
  {
   "cell_type": "code",
   "execution_count": 5,
   "metadata": {},
   "outputs": [
    {
     "data": {
      "text/plain": [
       "Parameter containing:\n",
       "tensor(1.0504, requires_grad=True)"
      ]
     },
     "execution_count": 5,
     "metadata": {},
     "output_type": "execute_result"
    }
   ],
   "source": [
    "net.rnn.beta"
   ]
  },
  {
   "cell_type": "code",
   "execution_count": null,
   "metadata": {},
   "outputs": [],
   "source": []
  },
  {
   "cell_type": "code",
   "execution_count": 17,
   "metadata": {},
   "outputs": [
    {
     "name": "stdout",
     "output_type": "stream",
     "text": [
      "torch.Size([20, 20]) torch.Size([20, 20])\n"
     ]
    },
    {
     "data": {
      "image/png": "[encoded data removed]",
      "text/plain": [
       "<Figure size 500x400 with 3 Axes>"
      ]
     },
     "metadata": {},
     "output_type": "display_data"
    }
   ],
   "source": [
    "ipweight = net.input_weight.weight.detach().T\n",
    "rcweight = net.recurrent_weight.weight.detach()\n",
    "roweight = net.readout.weight.detach()\n",
    "sd_score = roweight[0] - roweight[1]\n",
    "isort = torch.argsort(sd_score)\n",
    "\n",
    "\n",
    "print(ipweight.shape, rcweight.shape)\n",
    "\n",
    "fig, ax = plt.subplots(1, 3, figsize=(5, 4), layout=\"constrained\")\n",
    "ax[0].imshow(ipweight.T[isort])\n",
    "ax[1].imshow(rcweight.T[isort][:, isort])\n",
    "ax[2].imshow(roweight.T[isort])\n",
    "plt.show()"
   ]
  },
  {
   "cell_type": "code",
   "execution_count": 18,
   "metadata": {},
   "outputs": [
    {
     "data": {
      "text/plain": [
       "torch.Size([100, 2])"
      ]
     },
     "execution_count": 18,
     "metadata": {},
     "output_type": "execute_result"
    }
   ],
   "source": [
    "params[\"stimuli\"].shape"
   ]
  },
  {
   "cell_type": "code",
   "execution_count": 19,
   "metadata": {},
   "outputs": [
    {
     "data": {
      "text/plain": [
       "tensor([[0, 0, 1, 0],\n",
       "        [1, 0, 0, 0],\n",
       "        [1, 0, 0, 0],\n",
       "        [1, 1, 1, 0],\n",
       "        [1, 1, 1, 0],\n",
       "        [1, 1, 1, 0],\n",
       "        [0, 0, 1, 0],\n",
       "        [1, 1, 1, 0],\n",
       "        [0, 0, 1, 0],\n",
       "        [1, 1, 1, 0]])"
      ]
     },
     "execution_count": 19,
     "metadata": {},
     "output_type": "execute_result"
    }
   ],
   "source": [
    "X, labels, params = task.generate_data(B)\n",
    "outputs, spks, mems = net(X, start_integration=start_integration)\n",
    "choice = torch.argmax(outputs, dim=1)\n",
    "\n",
    "torch.cat((params[\"stimuli\"][:10], labels[:10].unsqueeze(1), choice[:10].unsqueeze(1)), dim=1)"
   ]
  },
  {
   "cell_type": "code",
   "execution_count": 23,
   "metadata": {},
   "outputs": [
    {
     "name": "stdout",
     "output_type": "stream",
     "text": [
      "torch.Size([55, 20]) torch.Size([55, 20]) torch.Size([55, 20])\n"
     ]
    },
    {
     "data": {
      "image/png": "[encoded data removed]",
      "text/plain": [
       "<Figure size 900x600 with 3 Axes>"
      ]
     },
     "metadata": {},
     "output_type": "display_data"
    }
   ],
   "source": [
    "ibatch = 8\n",
    "\n",
    "print(X[ibatch].shape, spks[ibatch].shape, mems[ibatch].shape)\n",
    "\n",
    "fig, ax = plt.subplots(3, 1, figsize=(9, 6), layout=\"constrained\")\n",
    "ax[0].imshow(X[ibatch].T, aspect=\"auto\")\n",
    "ax[1].imshow(spks[ibatch][:, isort].detach().T, aspect=\"auto\")\n",
    "ax[2].imshow(mems[ibatch][:, isort].detach().T, aspect=\"auto\")\n",
    "plt.show()"
   ]
  },
  {
   "cell_type": "code",
   "execution_count": null,
   "metadata": {},
   "outputs": [],
   "source": []
  },
  {
   "cell_type": "code",
   "execution_count": null,
   "metadata": {},
   "outputs": [],
   "source": []
  },
  {
   "cell_type": "code",
   "execution_count": null,
   "metadata": {},
   "outputs": [],
   "source": []
  },
  {
   "cell_type": "code",
   "execution_count": null,
   "metadata": {},
   "outputs": [],
   "source": []
  },
  {
   "cell_type": "code",
   "execution_count": null,
   "metadata": {},
   "outputs": [],
   "source": []
  }
 ],
 "metadata": {
  "kernelspec": {
   "display_name": "rl-playground",
   "language": "python",
   "name": "python3"
  },
  "language_info": {
   "codemirror_mode": {
    "name": "ipython",
    "version": 3
   },
   "file_extension": ".py",
   "mimetype": "text/x-python",
   "name": "python",
   "nbconvert_exporter": "python",
   "pygments_lexer": "ipython3",
   "version": "3.11.0"
  }
 },
 "nbformat": 4,
 "nbformat_minor": 2
}
